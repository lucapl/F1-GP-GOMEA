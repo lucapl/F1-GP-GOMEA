{
 "cells": [
  {
   "cell_type": "code",
   "execution_count": 4,
   "id": "e0656b9d",
   "metadata": {},
   "outputs": [],
   "source": [
    "import re"
   ]
  },
  {
   "cell_type": "code",
   "execution_count": 5,
   "id": "c0f0ff49",
   "metadata": {},
   "outputs": [],
   "source": [
    "def parse_frams_geno(geno:str, in_paranthesis=False):\n",
    "    if len(geno) == 0:\n",
    "        return [\"empty\"]\n",
    "    j = geno.find(\",\")\n",
    "    if j != -1 and in_paranthesis:\n",
    "        return [\"comma\"] + parse_frams_geno(geno[:j]) + parse_frams_geno(geno[j+1:],True)\n",
    "    i = geno.find(\"(\")\n",
    "    if i != -1:\n",
    "        l = geno.rfind(\")\")\n",
    "        return [\"add_branch\"] + parse_frams_geno(geno[:i]) + parse_frams_geno(geno[i+1:l],True)\n",
    "\n",
    "    if len(geno) == 1:\n",
    "        return [geno[0]]\n",
    "\n",
    "    if geno[1] == \"[\": #handle\n",
    "        match = re.search(r'\\[[^\\[\\]]*?\\](?!\\[)', geno)\n",
    "        type, rest = parse_neuron(match.group()[1:-1])\n",
    "        return [\"add_neuron\"] + parse_frams_geno(geno[:match.start()]) + [type] + rest + parse_frams_geno(geno[match.end():])\n",
    "    return [\"concat\", geno[0]] + parse_frams_geno(geno[1:])\n",
    "\n",
    "def parse_neuron(neuron_inside:str | list[str], is_first=True):\n",
    "    if len(neuron_inside) == 0:\n",
    "        return [\"end\"]\n",
    "    if isinstance(neuron_inside,str):\n",
    "        neuron_inside = neuron_inside.split(\",\")\n",
    "    neuron_type = None\n",
    "    i = 0\n",
    "    if \":\" not in neuron_inside[0]:\n",
    "        neuron_type = neuron_inside[0]\n",
    "        i = 1\n",
    "    if is_first:\n",
    "        neuron_type = \"N\" if not neuron_type else neuron_type\n",
    "        return neuron_type, parse_neuron(neuron_inside[i:], is_first=False)\n",
    "    \n",
    "    first, second = neuron_inside[0].split(\":\")\n",
    "    if re.match(r'^-?\\d+$',first):\n",
    "        thing = [\"conn\", int(first), float(second)]\n",
    "    else:\n",
    "        thing = [\"prop\", first, float(second)]\n",
    "\n",
    "    return thing + parse_neuron(neuron_inside[1:], is_first=False)\n"
   ]
  },
  {
   "cell_type": "code",
   "execution_count": 6,
   "id": "7b5f1bf1",
   "metadata": {},
   "outputs": [],
   "source": [
    "def simple_parser(geno:str, in_paranthesis=False):\n",
    "    if len(geno) == 0:\n",
    "        return [\"end\"]\n",
    "    if in_paranthesis:\n",
    "        depth = 0\n",
    "        j = -1\n",
    "        for i, c in enumerate(geno):\n",
    "            if c == \"(\" or c == \"[\":\n",
    "                depth += 1\n",
    "            if c == \")\" or c == \"]\":\n",
    "                depth -= 1\n",
    "            if c == \",\" and depth == 0:\n",
    "                j = i\n",
    "                break\n",
    "        if j != -1:\n",
    "            return [\"comma\"] + simple_parser(geno[:j]) + simple_parser(geno[j+1:],True)\n",
    "    if geno[0] == \"(\":\n",
    "        return [\"branch\"] + simple_parser(geno[1:-1],True)\n",
    "\n",
    "    if geno[0] == \"[\": #handle\n",
    "        #match = re.search(r'\\[[^\\[\\]]*?\\](?!\\[)', geno)\n",
    "        i = geno.find(\"]\")\n",
    "        type, proplist = parse_neuron(geno[1:i])\n",
    "        return [\"neuron\"] + [type] + proplist + simple_parser(geno[i+1:])\n",
    "    return [geno[0]] + simple_parser(geno[1:])"
   ]
  },
  {
   "cell_type": "code",
   "execution_count": 7,
   "id": "e1dbd157",
   "metadata": {},
   "outputs": [
    {
     "data": {
      "text/plain": [
       "('N', ['conn', 3, 2.0, 'prop', 'fi', 2.0, 'end'])"
      ]
     },
     "execution_count": 7,
     "metadata": {},
     "output_type": "execute_result"
    }
   ],
   "source": [
    "parse_neuron(\"N,3:2,fi:2\")"
   ]
  },
  {
   "cell_type": "code",
   "execution_count": 56,
   "id": "9f7ec3e4",
   "metadata": {},
   "outputs": [
    {
     "data": {
      "text/plain": [
       "['branch',\n",
       " 'X',\n",
       " 'branch',\n",
       " 'comma',\n",
       " 'X',\n",
       " 'end',\n",
       " 'comma',\n",
       " 'end',\n",
       " 'comma',\n",
       " 'end',\n",
       " 'comma',\n",
       " 'end',\n",
       " 'branch',\n",
       " 'comma',\n",
       " 'X',\n",
       " 'end',\n",
       " 'comma',\n",
       " 'X',\n",
       " 'end',\n",
       " 'X',\n",
       " 'X',\n",
       " 'branch',\n",
       " 'X',\n",
       " 'end']"
      ]
     },
     "execution_count": 56,
     "metadata": {},
     "output_type": "execute_result"
    }
   ],
   "source": [
    "simple_parser(\"(X(X,,,,(X,X,XX(X))))\")"
   ]
  },
  {
   "cell_type": "code",
   "execution_count": 9,
   "id": "c004b211",
   "metadata": {},
   "outputs": [
    {
     "ename": "ModuleNotFoundError",
     "evalue": "No module named 'matplotlib'",
     "output_type": "error",
     "traceback": [
      "\u001b[31m---------------------------------------------------------------------------\u001b[39m",
      "\u001b[31mModuleNotFoundError\u001b[39m                       Traceback (most recent call last)",
      "\u001b[36mCell\u001b[39m\u001b[36m \u001b[39m\u001b[32mIn[9]\u001b[39m\u001b[32m, line 1\u001b[39m\n\u001b[32m----> \u001b[39m\u001b[32m1\u001b[39m \u001b[43mget_ipython\u001b[49m\u001b[43m(\u001b[49m\u001b[43m)\u001b[49m\u001b[43m.\u001b[49m\u001b[43mrun_line_magic\u001b[49m\u001b[43m(\u001b[49m\u001b[33;43m'\u001b[39;49m\u001b[33;43mmatplotlib\u001b[39;49m\u001b[33;43m'\u001b[39;49m\u001b[43m,\u001b[49m\u001b[43m \u001b[49m\u001b[33;43m'\u001b[39;49m\u001b[33;43minline\u001b[39;49m\u001b[33;43m'\u001b[39;49m\u001b[43m)\u001b[49m\n\u001b[32m      2\u001b[39m \u001b[38;5;28;01mfrom\u001b[39;00m\u001b[38;5;250m \u001b[39m\u001b[34;01mnetworkx\u001b[39;00m\u001b[34;01m.\u001b[39;00m\u001b[34;01mdrawing\u001b[39;00m\u001b[34;01m.\u001b[39;00m\u001b[34;01mnx_agraph\u001b[39;00m\u001b[38;5;250m \u001b[39m\u001b[38;5;28;01mimport\u001b[39;00m graphviz_layout\n\u001b[32m      3\u001b[39m \u001b[38;5;28;01mimport\u001b[39;00m\u001b[38;5;250m \u001b[39m\u001b[34;01mmatplotlib\u001b[39;00m\u001b[34;01m.\u001b[39;00m\u001b[34;01mpyplot\u001b[39;00m\u001b[38;5;250m \u001b[39m\u001b[38;5;28;01mas\u001b[39;00m\u001b[38;5;250m \u001b[39m\u001b[34;01mplt\u001b[39;00m\n",
      "\u001b[36mFile \u001b[39m\u001b[32md:\\studia_2\\F1-GP-GOMEA\\.venv\\Lib\\site-packages\\IPython\\core\\interactiveshell.py:2488\u001b[39m, in \u001b[36mInteractiveShell.run_line_magic\u001b[39m\u001b[34m(self, magic_name, line, _stack_depth)\u001b[39m\n\u001b[32m   2486\u001b[39m     kwargs[\u001b[33m'\u001b[39m\u001b[33mlocal_ns\u001b[39m\u001b[33m'\u001b[39m] = \u001b[38;5;28mself\u001b[39m.get_local_scope(stack_depth)\n\u001b[32m   2487\u001b[39m \u001b[38;5;28;01mwith\u001b[39;00m \u001b[38;5;28mself\u001b[39m.builtin_trap:\n\u001b[32m-> \u001b[39m\u001b[32m2488\u001b[39m     result = \u001b[43mfn\u001b[49m\u001b[43m(\u001b[49m\u001b[43m*\u001b[49m\u001b[43margs\u001b[49m\u001b[43m,\u001b[49m\u001b[43m \u001b[49m\u001b[43m*\u001b[49m\u001b[43m*\u001b[49m\u001b[43mkwargs\u001b[49m\u001b[43m)\u001b[49m\n\u001b[32m   2490\u001b[39m \u001b[38;5;66;03m# The code below prevents the output from being displayed\u001b[39;00m\n\u001b[32m   2491\u001b[39m \u001b[38;5;66;03m# when using magics with decorator @output_can_be_silenced\u001b[39;00m\n\u001b[32m   2492\u001b[39m \u001b[38;5;66;03m# when the last Python token in the expression is a ';'.\u001b[39;00m\n\u001b[32m   2493\u001b[39m \u001b[38;5;28;01mif\u001b[39;00m \u001b[38;5;28mgetattr\u001b[39m(fn, magic.MAGIC_OUTPUT_CAN_BE_SILENCED, \u001b[38;5;28;01mFalse\u001b[39;00m):\n",
      "\u001b[36mFile \u001b[39m\u001b[32md:\\studia_2\\F1-GP-GOMEA\\.venv\\Lib\\site-packages\\IPython\\core\\magics\\pylab.py:103\u001b[39m, in \u001b[36mPylabMagics.matplotlib\u001b[39m\u001b[34m(self, line)\u001b[39m\n\u001b[32m     98\u001b[39m     \u001b[38;5;28mprint\u001b[39m(\n\u001b[32m     99\u001b[39m         \u001b[33m\"\u001b[39m\u001b[33mAvailable matplotlib backends: \u001b[39m\u001b[38;5;132;01m%s\u001b[39;00m\u001b[33m\"\u001b[39m\n\u001b[32m    100\u001b[39m         % _list_matplotlib_backends_and_gui_loops()\n\u001b[32m    101\u001b[39m     )\n\u001b[32m    102\u001b[39m \u001b[38;5;28;01melse\u001b[39;00m:\n\u001b[32m--> \u001b[39m\u001b[32m103\u001b[39m     gui, backend = \u001b[38;5;28;43mself\u001b[39;49m\u001b[43m.\u001b[49m\u001b[43mshell\u001b[49m\u001b[43m.\u001b[49m\u001b[43menable_matplotlib\u001b[49m\u001b[43m(\u001b[49m\u001b[43margs\u001b[49m\u001b[43m.\u001b[49m\u001b[43mgui\u001b[49m\u001b[43m)\u001b[49m\n\u001b[32m    104\u001b[39m     \u001b[38;5;28mself\u001b[39m._show_matplotlib_backend(args.gui, backend)\n",
      "\u001b[36mFile \u001b[39m\u001b[32md:\\studia_2\\F1-GP-GOMEA\\.venv\\Lib\\site-packages\\IPython\\core\\interactiveshell.py:3760\u001b[39m, in \u001b[36mInteractiveShell.enable_matplotlib\u001b[39m\u001b[34m(self, gui)\u001b[39m\n\u001b[32m   3757\u001b[39m     \u001b[38;5;28;01mimport\u001b[39;00m\u001b[38;5;250m \u001b[39m\u001b[34;01mmatplotlib_inline\u001b[39;00m\u001b[34;01m.\u001b[39;00m\u001b[34;01mbackend_inline\u001b[39;00m\n\u001b[32m   3759\u001b[39m \u001b[38;5;28;01mfrom\u001b[39;00m\u001b[38;5;250m \u001b[39m\u001b[34;01mIPython\u001b[39;00m\u001b[34;01m.\u001b[39;00m\u001b[34;01mcore\u001b[39;00m\u001b[38;5;250m \u001b[39m\u001b[38;5;28;01mimport\u001b[39;00m pylabtools \u001b[38;5;28;01mas\u001b[39;00m pt\n\u001b[32m-> \u001b[39m\u001b[32m3760\u001b[39m gui, backend = \u001b[43mpt\u001b[49m\u001b[43m.\u001b[49m\u001b[43mfind_gui_and_backend\u001b[49m\u001b[43m(\u001b[49m\u001b[43mgui\u001b[49m\u001b[43m,\u001b[49m\u001b[43m \u001b[49m\u001b[38;5;28;43mself\u001b[39;49m\u001b[43m.\u001b[49m\u001b[43mpylab_gui_select\u001b[49m\u001b[43m)\u001b[49m\n\u001b[32m   3762\u001b[39m \u001b[38;5;28;01mif\u001b[39;00m gui != \u001b[38;5;28;01mNone\u001b[39;00m:\n\u001b[32m   3763\u001b[39m     \u001b[38;5;66;03m# If we have our first gui selection, store it\u001b[39;00m\n\u001b[32m   3764\u001b[39m     \u001b[38;5;28;01mif\u001b[39;00m \u001b[38;5;28mself\u001b[39m.pylab_gui_select \u001b[38;5;129;01mis\u001b[39;00m \u001b[38;5;28;01mNone\u001b[39;00m:\n",
      "\u001b[36mFile \u001b[39m\u001b[32md:\\studia_2\\F1-GP-GOMEA\\.venv\\Lib\\site-packages\\IPython\\core\\pylabtools.py:338\u001b[39m, in \u001b[36mfind_gui_and_backend\u001b[39m\u001b[34m(gui, gui_select)\u001b[39m\n\u001b[32m    321\u001b[39m \u001b[38;5;28;01mdef\u001b[39;00m\u001b[38;5;250m \u001b[39m\u001b[34mfind_gui_and_backend\u001b[39m(gui=\u001b[38;5;28;01mNone\u001b[39;00m, gui_select=\u001b[38;5;28;01mNone\u001b[39;00m):\n\u001b[32m    322\u001b[39m \u001b[38;5;250m    \u001b[39m\u001b[33;03m\"\"\"Given a gui string return the gui and mpl backend.\u001b[39;00m\n\u001b[32m    323\u001b[39m \n\u001b[32m    324\u001b[39m \u001b[33;03m    Parameters\u001b[39;00m\n\u001b[32m   (...)\u001b[39m\u001b[32m    335\u001b[39m \u001b[33;03m    'WXAgg','Qt4Agg','module://matplotlib_inline.backend_inline','agg').\u001b[39;00m\n\u001b[32m    336\u001b[39m \u001b[33;03m    \"\"\"\u001b[39;00m\n\u001b[32m--> \u001b[39m\u001b[32m338\u001b[39m     \u001b[38;5;28;01mimport\u001b[39;00m\u001b[38;5;250m \u001b[39m\u001b[34;01mmatplotlib\u001b[39;00m\n\u001b[32m    340\u001b[39m     \u001b[38;5;28;01mif\u001b[39;00m _matplotlib_manages_backends():\n\u001b[32m    341\u001b[39m         backend_registry = matplotlib.backends.registry.backend_registry\n",
      "\u001b[31mModuleNotFoundError\u001b[39m: No module named 'matplotlib'"
     ]
    }
   ],
   "source": [
    "%matplotlib inline\n",
    "from networkx.drawing.nx_agraph import graphviz_layout\n",
    "import matplotlib.pyplot as plt\n",
    "import networkx as nx\n",
    "\n",
    "nodes, edges, labels = gp.graph(tree)\n",
    "g = nx.Graph()\n",
    "g.add_nodes_from(nodes)\n",
    "g.add_edges_from(edges)\n",
    "pos = graphviz_layout(g, prog=\"dot\")\n",
    "\n",
    "nx.draw_networkx_nodes(g, pos)\n",
    "nx.draw_networkx_edges(g, pos)\n",
    "nx.draw_networkx_labels(g, pos, labels)\n",
    "plt.show()"
   ]
  },
  {
   "cell_type": "code",
   "execution_count": 11,
   "id": "8c4528e5",
   "metadata": {},
   "outputs": [
    {
     "name": "stdout",
     "output_type": "stream",
     "text": [
      "branch c c c X X neuron N conn 0 2.0 end X X neuron * end neuron Thr prop lo 2.0 end branch comma X end comma end comma end comma end branch comma X end comma X end X X branch X end\n"
     ]
    }
   ],
   "source": [
    "#geno = \"cccRRRXXX[N][N]X(X,,X(X,,cXCX,R(RRX)),XX)\"\n",
    "geno = \"(cccXX[0:2]XX[*][Thr,lo:2](X,,,,(X,X,XX(X))))\"\n",
    "parsed = simple_parser(geno)\n",
    "print(*parsed)"
   ]
  },
  {
   "cell_type": "code",
   "execution_count": null,
   "id": "78020ab4",
   "metadata": {},
   "outputs": [],
   "source": [
    "from deap import gp\n",
    "from functools import partial"
   ]
  },
  {
   "cell_type": "code",
   "execution_count": 16,
   "id": "cec74f4a",
   "metadata": {},
   "outputs": [],
   "source": [
    "from framspy.src.FramsticksLib import FramsticksLib\n",
    "from pathlib import Path"
   ]
  },
  {
   "cell_type": "code",
   "execution_count": 17,
   "id": "f25e2aac",
   "metadata": {},
   "outputs": [
    {
     "name": "stdout",
     "output_type": "stream",
     "text": [
      "Using Framsticks version: 5.2\n",
      "Home (writable) dir     : d:\\studia_2\\F1-GP-GOMEA\\Framsticks52\\data\n",
      "Resources dir           : d:\\studia_2\\F1-GP-GOMEA\\Framsticks52\\data\n",
      "\n",
      "Available objects: ['CheckpointEvent', 'Collision', 'CrCollision', 'Creature', 'CreatureSettings', 'CreatureSignals', 'CreatureSnapshot', 'Dictionary', 'ExpProperties', 'ExpState', 'ExtValue', 'File', 'FunctionReference', 'GenMan', 'GenManStats', 'GenePool', 'GenePools', 'Geno', 'GenoConverters', 'Genotype', 'Interface', 'Joint', 'Loader', 'Math', 'MechJoint', 'MechPart', 'MessageCatcher', 'Model', 'ModelGeometry', 'ModelSymmetry', 'Neuro', 'NeuroClass', 'NeuroClassLibrary', 'NeuroDef', 'NeuroSignals', 'NeuronsSimEnabled', 'ODE', 'Orient', 'Part', 'Population', 'Populations', 'Ref', 'Signal', 'SignalView', 'SimilMeasure', 'SimilMeasureDistribution', 'SimilMeasureGreedy', 'SimilMeasureHungarian', 'Simulator', 'SlaveSimulators', 'StopEvent', 'String', 'UserScripts', 'Vector', 'WireframeAppearance', 'World', 'WorldMap', 'WorldSignals', 'XYZ', '__builtins__', '__cached__', '__doc__', '__file__', '__loader__', '__name__', '__package__', '__spec__', 'c_api', 'ctypes', 'home_dir', 'init', 'os', 're', 'res_dir', 'sim_params', 'stats', 'sys']\n",
      "\n",
      "Basic tests OK. Using settings: ['d:/studia_2/F1-GP-GOMEA/framspy/eval-allcriteria.sim']\n",
      "\n",
      "Simulator.load: Loading from 'd:/studia_2/F1-GP-GOMEA/framspy/eval-allcriteria.sim'\n",
      "Loader.load: Comments read from file follow:\n",
      "Loader.load:  Sample settings for evaluating many criteria of performance of a Framsticks creature.\n",
      "Loader.load:  See the \"evalcount\" parameter if you want to speed the evaluation up or have a more stable result.\n",
      "Loader.load:  Other important parameters are \"Energy0\" and \"perfperiod\".\n",
      "Loader.load:  Put this file in the \"data\" subdirectory within the Framsticks distribution.\n",
      "Simulator.load: Loaded genepool settings, 2 population settings, simulator settings from 'd:/studia_2/F1-GP-GOMEA/framspy/eval-allcriteria.sim'\n"
     ]
    }
   ],
   "source": [
    "flib = FramsticksLib(\"./Framsticks52\",None,Path(\"./framspy/eval-allcriteria.sim\").absolute().as_posix())"
   ]
  },
  {
   "cell_type": "code",
   "execution_count": 18,
   "id": "f00ce1be",
   "metadata": {},
   "outputs": [],
   "source": [
    "def generate_random(n=100, geno_format=\"1\"):\n",
    "    geno = [flib.getSimplest(geno_format)]\n",
    "    for i in range(n):\n",
    "        geno = flib.mutate(geno)\n",
    "    return geno"
   ]
  },
  {
   "cell_type": "code",
   "execution_count": 19,
   "id": "b73c739a",
   "metadata": {},
   "outputs": [],
   "source": [
    "N = 30\n",
    "pop = [generate_random() for i in range(N)] "
   ]
  },
  {
   "cell_type": "code",
   "execution_count": 20,
   "id": "e8b613f2",
   "metadata": {},
   "outputs": [],
   "source": [
    "class NodeMock():\n",
    "    def __init__(self, name):\n",
    "        if isinstance(name,int):\n",
    "            name = \"nint\"\n",
    "        if isinstance(name,float):\n",
    "            name = \"nfloat\"\n",
    "        self.name = name"
   ]
  },
  {
   "cell_type": "code",
   "execution_count": 21,
   "id": "06fcd1fc",
   "metadata": {},
   "outputs": [],
   "source": [
    "parsed = [list(map(lambda s: NodeMock(s),simple_parser(geno[0].replace(\" \",\"\")))) for geno in pop]"
   ]
  },
  {
   "cell_type": "code",
   "execution_count": 37,
   "id": "b249bfc1",
   "metadata": {},
   "outputs": [
    {
     "name": "stdout",
     "output_type": "stream",
     "text": [
      "The autoreload extension is already loaded. To reload it, use:\n",
      "  %reload_ext autoreload\n"
     ]
    }
   ],
   "source": [
    "%load_ext autoreload\n",
    "%autoreload 2"
   ]
  },
  {
   "cell_type": "code",
   "execution_count": 47,
   "id": "8de4e713",
   "metadata": {},
   "outputs": [],
   "source": [
    "from src.linkage import LinkageTreeFramsF1\n",
    "lt = LinkageTreeFramsF1(parsed,None)"
   ]
  },
  {
   "cell_type": "code",
   "execution_count": null,
   "id": "52494ebd",
   "metadata": {},
   "outputs": [],
   "source": []
  },
  {
   "cell_type": "code",
   "execution_count": 45,
   "id": "6690297e",
   "metadata": {},
   "outputs": [],
   "source": [
    "import numpy as np\n",
    "import itertools\n",
    "pad_token = \"_\"\n",
    "mapped = [list(map(lambda s: s.name, ind)) for ind in parsed]\n",
    "padded = list(zip(*itertools.zip_longest(*mapped, fillvalue=pad_token)))\n",
    "genos_array = np.array(padded)"
   ]
  },
  {
   "cell_type": "code",
   "execution_count": 174,
   "id": "d63e04b8",
   "metadata": {},
   "outputs": [],
   "source": [
    "from collections import Counter"
   ]
  },
  {
   "cell_type": "code",
   "execution_count": 181,
   "id": "51b3ab56",
   "metadata": {},
   "outputs": [],
   "source": [
    "single_counts = {i: Counter(genos_array[:, i][genos_array[:, i]!=pad_token]) for i in range(genos_array.shape[1])}"
   ]
  },
  {
   "cell_type": "code",
   "execution_count": 183,
   "id": "5bacf35a",
   "metadata": {},
   "outputs": [],
   "source": [
    "pair_counts = {\n",
    "            (i, j): Counter(zip(genos_array[:, i][genos_array[:, i]!=pad_token], genos_array[:, j][genos_array[:, j]!=pad_token]))\n",
    "            for i in range(genos_array.shape[1]) for j in range(i + 1, genos_array.shape[1])\n",
    "        }"
   ]
  },
  {
   "cell_type": "code",
   "execution_count": 185,
   "id": "14cfe795",
   "metadata": {},
   "outputs": [
    {
     "data": {
      "text/plain": [
       "{0: np.float64(3.360942544894305)}"
      ]
     },
     "execution_count": 185,
     "metadata": {},
     "output_type": "execute_result"
    }
   ],
   "source": [
    "lt.positional_entropies"
   ]
  },
  {
   "cell_type": "code",
   "execution_count": 187,
   "id": "6d76af4a",
   "metadata": {},
   "outputs": [],
   "source": [
    "from src.stats import spearman_cor, pearson_cor, calculate_entropy_list"
   ]
  },
  {
   "cell_type": "code",
   "execution_count": null,
   "id": "b2511c24",
   "metadata": {},
   "outputs": [],
   "source": [
    "pop = []"
   ]
  },
  {
   "cell_type": "code",
   "execution_count": null,
   "id": "d9da41f6",
   "metadata": {},
   "outputs": [],
   "source": [
    "def evaluate(ptree, pset, flib, invalid_fitness, criteria):\n",
    "    try:\n",
    "        geno = [gp.compile(ptree, pset)]\n",
    "    except:\n",
    "        return (invalid_fitness,)\n",
    "    valid = flib.isValidCreature(geno)[0]\n",
    "    if not valid:\n",
    "        return (invalid_fitness,)\n",
    "    # before running a creature through a simulation we ensure the genotype is valid\n",
    "    value = flib.evaluate(geno)[0][\"evaluations\"][''][criteria]\n",
    "    return (value,) \n"
   ]
  }
 ],
 "metadata": {
  "kernelspec": {
   "display_name": ".venv",
   "language": "python",
   "name": "python3"
  },
  "language_info": {
   "codemirror_mode": {
    "name": "ipython",
    "version": 3
   },
   "file_extension": ".py",
   "mimetype": "text/x-python",
   "name": "python",
   "nbconvert_exporter": "python",
   "pygments_lexer": "ipython3",
   "version": "3.13.0"
  }
 },
 "nbformat": 4,
 "nbformat_minor": 5
}
