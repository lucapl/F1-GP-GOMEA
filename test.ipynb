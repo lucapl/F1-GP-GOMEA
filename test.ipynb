{
 "cells": [
  {
   "cell_type": "code",
   "execution_count": 2,
   "id": "e0656b9d",
   "metadata": {},
   "outputs": [],
   "source": [
    "import re"
   ]
  },
  {
   "cell_type": "code",
   "execution_count": 3,
   "id": "412396ac",
   "metadata": {},
   "outputs": [
    {
     "data": {
      "text/plain": [
       "slice('ABCD', 2, 4)"
      ]
     },
     "execution_count": 3,
     "metadata": {},
     "output_type": "execute_result"
    }
   ],
   "source": [
    "slice(\"ABCD\",2,4)"
   ]
  },
  {
   "cell_type": "code",
   "execution_count": 4,
   "id": "bf0efb52",
   "metadata": {},
   "outputs": [
    {
     "data": {
      "text/plain": [
       "'abc'"
      ]
     },
     "execution_count": 4,
     "metadata": {},
     "output_type": "execute_result"
    }
   ],
   "source": [
    "\"abc\""
   ]
  },
  {
   "cell_type": "code",
   "execution_count": 5,
   "id": "c0f0ff49",
   "metadata": {},
   "outputs": [],
   "source": [
    "def parse_frams_geno(geno:str, in_paranthesis=False):\n",
    "    if len(geno) == 0:\n",
    "        return [\"empty\"]\n",
    "    j = geno.find(\",\")\n",
    "    if j != -1 and in_paranthesis:\n",
    "        return [\"comma\"] + parse_frams_geno(geno[:j]) + parse_frams_geno(geno[j+1:],True)\n",
    "    i = geno.find(\"(\")\n",
    "    if i != -1:\n",
    "        l = geno.rfind(\")\")\n",
    "        return [\"add_branch\"] + parse_frams_geno(geno[:i]) + parse_frams_geno(geno[i+1:l],True)\n",
    "\n",
    "    if len(geno) == 1:\n",
    "        return [geno[0]]\n",
    "\n",
    "    if geno[1] == \"[\": #handle\n",
    "        match = re.search(r'\\[[^\\[\\]]*?\\](?!\\[)', geno)\n",
    "        type, rest = parse_neuron(match.group()[1:-1])\n",
    "        return [\"add_neuron\"] + parse_frams_geno(geno[:match.start()]) + [type] + rest + parse_frams_geno(geno[match.end():])\n",
    "    return [\"concat\", geno[0]] + parse_frams_geno(geno[1:])\n",
    "\n",
    "def parse_neuron(neuron_inside:str | list[str], is_first=True):\n",
    "    if len(neuron_inside) == 0:\n",
    "        return [\"end\"]\n",
    "    if isinstance(neuron_inside,str):\n",
    "        neuron_inside = neuron_inside.split(\",\")\n",
    "    neuron_type = None\n",
    "    i = 0\n",
    "    if \":\" not in neuron_inside[0]:\n",
    "        neuron_type = neuron_inside[0]\n",
    "        i = 1\n",
    "    if is_first:\n",
    "        neuron_type = \"N\" if not neuron_type else neuron_type\n",
    "        return neuron_type, parse_neuron(neuron_inside[i:], is_first=False)\n",
    "    \n",
    "    first, second = neuron_inside[0].split(\":\")\n",
    "    if re.match(r'^-?\\d+$',first):\n",
    "        thing = [\"conn\", int(first), float(second)]\n",
    "    else:\n",
    "        thing = [\"prop\", first, float(second)]\n",
    "\n",
    "    return thing + parse_neuron(neuron_inside[1:], is_first=False)\n"
   ]
  },
  {
   "cell_type": "code",
   "execution_count": null,
   "id": "2aa7398c",
   "metadata": {},
   "outputs": [
    {
     "data": {
      "text/plain": [
       "'s'"
      ]
     },
     "execution_count": 56,
     "metadata": {},
     "output_type": "execute_result"
    }
   ],
   "source": [
    "\"abs\"[2:]"
   ]
  },
  {
   "cell_type": "code",
   "execution_count": 7,
   "id": "7b5f1bf1",
   "metadata": {},
   "outputs": [],
   "source": [
    "def simple_parser(geno:str, in_paranthesis=False):\n",
    "    if len(geno) == 0:\n",
    "        return [\"end\"]\n",
    "    if in_paranthesis:\n",
    "        depth = 0\n",
    "        j = -1\n",
    "        for i, c in enumerate(geno):\n",
    "            if c == \"(\" or c == \"[\":\n",
    "                depth += 1\n",
    "            if c == \")\" or c == \"]\":\n",
    "                depth -= 1\n",
    "            if c == \",\" and depth == 0:\n",
    "                j = i\n",
    "                break\n",
    "        if j != -1:\n",
    "            return [\"comma\"] + simple_parser(geno[:j]) + simple_parser(geno[j+1:],True)\n",
    "    if geno[0] == \"(\":\n",
    "        return [\"branch\"] + simple_parser(geno[1:-1],True)\n",
    "\n",
    "    if geno[0] == \"[\": #handle\n",
    "        #match = re.search(r'\\[[^\\[\\]]*?\\](?!\\[)', geno)\n",
    "        i = geno.find(\"]\")\n",
    "        type, proplist = parse_neuron(geno[1:i])\n",
    "        return [\"neuron\"] + [type] + proplist + simple_parser(geno[i+1:])\n",
    "    return [geno[0]] + simple_parser(geno[1:])"
   ]
  },
  {
   "cell_type": "code",
   "execution_count": 10,
   "id": "3baa2da5",
   "metadata": {},
   "outputs": [
    {
     "name": "stdout",
     "output_type": "stream",
     "text": [
      "\u001b[31mInit signature:\u001b[39m gp.PrimitiveTree(content)\n",
      "\u001b[31mDocstring:\u001b[39m     \n",
      "Tree specifically formatted for optimization of genetic programming\n",
      "operations. The tree is represented with a list, where the nodes are\n",
      "appended, or are assumed to have been appended when initializing an object\n",
      "of this class with a list of primitives and terminals e.g. generated with\n",
      "the method **gp.generate**, in a depth-first order.\n",
      "The nodes appended to the tree are required to have an attribute *arity*,\n",
      "which defines the arity of the primitive. An arity of 0 is expected from\n",
      "terminals nodes.\n",
      "\u001b[31mFile:\u001b[39m           d:\\studia_2\\f1-gp-gomea\\.venv\\lib\\site-packages\\deap\\gp.py\n",
      "\u001b[31mType:\u001b[39m           type\n",
      "\u001b[31mSubclasses:\u001b[39m     "
     ]
    }
   ],
   "source": [
    "from deap import gp\n",
    "?gp.PrimitiveTree"
   ]
  },
  {
   "cell_type": "code",
   "execution_count": null,
   "id": "e1dbd157",
   "metadata": {},
   "outputs": [
    {
     "data": {
      "text/plain": [
       "('N', ['conn', 3, 2.0, 'prop', 'fi', 2.0, 'end'])"
      ]
     },
     "execution_count": 132,
     "metadata": {},
     "output_type": "execute_result"
    }
   ],
   "source": [
    "parse_neuron(\"N,3:2,fi:2\")"
   ]
  },
  {
   "cell_type": "code",
   "execution_count": 15,
   "id": "9f7ec3e4",
   "metadata": {},
   "outputs": [
    {
     "data": {
      "text/plain": [
       "['branch',\n",
       " 'X',\n",
       " 'branch',\n",
       " 'comma',\n",
       " 'X',\n",
       " 'end',\n",
       " 'comma',\n",
       " 'end',\n",
       " 'comma',\n",
       " 'end',\n",
       " 'comma',\n",
       " 'end',\n",
       " 'branch',\n",
       " 'comma',\n",
       " 'X',\n",
       " 'end',\n",
       " 'comma',\n",
       " 'X',\n",
       " 'end',\n",
       " 'X',\n",
       " 'X',\n",
       " 'branch',\n",
       " 'X',\n",
       " 'end']"
      ]
     },
     "execution_count": 15,
     "metadata": {},
     "output_type": "execute_result"
    }
   ],
   "source": [
    "simple_parser(\"(X(X,,,,(X,X,XX(X))))\")"
   ]
  },
  {
   "cell_type": "code",
   "execution_count": 13,
   "id": "1fb6fa16",
   "metadata": {},
   "outputs": [],
   "source": [
    "tree = gp.PrimitiveTree(simple_parser(\"(X(X,,,,(X,X,XX(X))))\"))"
   ]
  },
  {
   "cell_type": "code",
   "execution_count": 14,
   "id": "c004b211",
   "metadata": {},
   "outputs": [
    {
     "ename": "AttributeError",
     "evalue": "'str' object has no attribute 'value'",
     "output_type": "error",
     "traceback": [
      "\u001b[31m---------------------------------------------------------------------------\u001b[39m",
      "\u001b[31mAttributeError\u001b[39m                            Traceback (most recent call last)",
      "\u001b[36mCell\u001b[39m\u001b[36m \u001b[39m\u001b[32mIn[14]\u001b[39m\u001b[32m, line 6\u001b[39m\n\u001b[32m      3\u001b[39m \u001b[38;5;28;01mimport\u001b[39;00m\u001b[38;5;250m \u001b[39m\u001b[34;01mmatplotlib\u001b[39;00m\u001b[34;01m.\u001b[39;00m\u001b[34;01mpyplot\u001b[39;00m\u001b[38;5;250m \u001b[39m\u001b[38;5;28;01mas\u001b[39;00m\u001b[38;5;250m \u001b[39m\u001b[34;01mplt\u001b[39;00m\n\u001b[32m      4\u001b[39m \u001b[38;5;28;01mimport\u001b[39;00m\u001b[38;5;250m \u001b[39m\u001b[34;01mnetworkx\u001b[39;00m\u001b[38;5;250m \u001b[39m\u001b[38;5;28;01mas\u001b[39;00m\u001b[38;5;250m \u001b[39m\u001b[34;01mnx\u001b[39;00m\n\u001b[32m----> \u001b[39m\u001b[32m6\u001b[39m nodes, edges, labels = \u001b[43mgp\u001b[49m\u001b[43m.\u001b[49m\u001b[43mgraph\u001b[49m\u001b[43m(\u001b[49m\u001b[43mtree\u001b[49m\u001b[43m)\u001b[49m\n\u001b[32m      7\u001b[39m g = nx.Graph()\n\u001b[32m      8\u001b[39m g.add_nodes_from(nodes)\n",
      "\u001b[36mFile \u001b[39m\u001b[32md:\\studia_2\\F1-GP-GOMEA\\.venv\\Lib\\site-packages\\deap\\gp.py:1221\u001b[39m, in \u001b[36mgraph\u001b[39m\u001b[34m(expr)\u001b[39m\n\u001b[32m   1219\u001b[39m     edges.append((stack[-\u001b[32m1\u001b[39m][\u001b[32m0\u001b[39m], i))\n\u001b[32m   1220\u001b[39m     stack[-\u001b[32m1\u001b[39m][\u001b[32m1\u001b[39m] -= \u001b[32m1\u001b[39m\n\u001b[32m-> \u001b[39m\u001b[32m1221\u001b[39m labels[i] = node.name \u001b[38;5;28;01mif\u001b[39;00m \u001b[38;5;28misinstance\u001b[39m(node, Primitive) \u001b[38;5;28;01melse\u001b[39;00m \u001b[43mnode\u001b[49m\u001b[43m.\u001b[49m\u001b[43mvalue\u001b[49m\n\u001b[32m   1222\u001b[39m stack.append([i, node.arity])\n\u001b[32m   1223\u001b[39m \u001b[38;5;28;01mwhile\u001b[39;00m stack \u001b[38;5;129;01mand\u001b[39;00m stack[-\u001b[32m1\u001b[39m][\u001b[32m1\u001b[39m] == \u001b[32m0\u001b[39m:\n",
      "\u001b[31mAttributeError\u001b[39m: 'str' object has no attribute 'value'"
     ]
    }
   ],
   "source": [
    "%matplotlib inline\n",
    "from networkx.drawing.nx_agraph import graphviz_layout\n",
    "import matplotlib.pyplot as plt\n",
    "import networkx as nx\n",
    "\n",
    "nodes, edges, labels = gp.graph(tree)\n",
    "g = nx.Graph()\n",
    "g.add_nodes_from(nodes)\n",
    "g.add_edges_from(edges)\n",
    "pos = graphviz_layout(g, prog=\"dot\")\n",
    "\n",
    "nx.draw_networkx_nodes(g, pos)\n",
    "nx.draw_networkx_edges(g, pos)\n",
    "nx.draw_networkx_labels(g, pos, labels)\n",
    "plt.show()"
   ]
  },
  {
   "cell_type": "code",
   "execution_count": 2,
   "id": "4f515c82",
   "metadata": {},
   "outputs": [
    {
     "ename": "TypeError",
     "evalue": "add() got multiple values for argument 'a'",
     "output_type": "error",
     "traceback": [
      "\u001b[31m---------------------------------------------------------------------------\u001b[39m",
      "\u001b[31mTypeError\u001b[39m                                 Traceback (most recent call last)",
      "\u001b[36mCell\u001b[39m\u001b[36m \u001b[39m\u001b[32mIn[2]\u001b[39m\u001b[32m, line 5\u001b[39m\n\u001b[32m      2\u001b[39m \u001b[38;5;28;01mdef\u001b[39;00m\u001b[38;5;250m \u001b[39m\u001b[34madd\u001b[39m(a,b,c):\n\u001b[32m      3\u001b[39m     \u001b[38;5;28;01mreturn\u001b[39;00m a+b+c\n\u001b[32m----> \u001b[39m\u001b[32m5\u001b[39m \u001b[43mpartial\u001b[49m\u001b[43m(\u001b[49m\u001b[43madd\u001b[49m\u001b[43m,\u001b[49m\u001b[43ma\u001b[49m\u001b[43m=\u001b[49m\u001b[32;43m2\u001b[39;49m\u001b[43m,\u001b[49m\u001b[43mb\u001b[49m\u001b[43m=\u001b[49m\u001b[32;43m4\u001b[39;49m\u001b[43m)\u001b[49m\u001b[43m(\u001b[49m\u001b[32;43m5\u001b[39;49m\u001b[43m)\u001b[49m\n",
      "\u001b[31mTypeError\u001b[39m: add() got multiple values for argument 'a'"
     ]
    }
   ],
   "source": [
    "from functools import partial\n",
    "def add(a,b,c):\n",
    "    return a+b+c\n",
    "\n",
    "partial(add,a=2,b=4)(5)"
   ]
  },
  {
   "cell_type": "code",
   "execution_count": null,
   "id": "232ecccb",
   "metadata": {},
   "outputs": [],
   "source": [
    "import re"
   ]
  },
  {
   "cell_type": "code",
   "execution_count": null,
   "id": "0ea05ba0",
   "metadata": {},
   "outputs": [
    {
     "data": {
      "text/plain": [
       "'ab'"
      ]
     },
     "execution_count": 129,
     "metadata": {},
     "output_type": "execute_result"
    }
   ],
   "source": [
    "\"abc\"[:2]"
   ]
  },
  {
   "cell_type": "code",
   "execution_count": null,
   "id": "87974def",
   "metadata": {},
   "outputs": [
    {
     "data": {
      "text/plain": [
       "10"
      ]
     },
     "execution_count": 210,
     "metadata": {},
     "output_type": "execute_result"
    }
   ],
   "source": [
    "import re\n",
    "geno = \"[abc][def]dsa[ghi]\"\n",
    "match = re.search(r'\\[[^\\[\\]]*?\\](?!\\[)', geno)\n",
    "match.start()\n",
    "match.end()"
   ]
  },
  {
   "cell_type": "code",
   "execution_count": null,
   "id": "b2d425f3",
   "metadata": {},
   "outputs": [
    {
     "data": {
      "text/plain": [
       "'AB'"
      ]
     },
     "execution_count": 211,
     "metadata": {},
     "output_type": "execute_result"
    }
   ],
   "source": [
    "\"ABCD\"[:2]"
   ]
  },
  {
   "cell_type": "code",
   "execution_count": null,
   "id": "8c4528e5",
   "metadata": {},
   "outputs": [
    {
     "name": "stdout",
     "output_type": "stream",
     "text": [
      "['branch', 'c', 'c', 'c', 'X', 'X', 'neuron', 'N', 'conn', 0, 2.0, 'end', 'X', 'X', 'neuron', '*', 'end', 'neuron', 'Thr', 'prop', 'lo', 2.0, 'end', 'branch', 'comma', 'X', 'end', 'comma', 'end', 'comma', 'end', 'comma', 'end', 'branch', 'comma', 'X', 'end', 'comma', 'X', 'end', 'X', 'X', 'branch', 'X', 'end']\n"
     ]
    }
   ],
   "source": [
    "#geno = \"cccRRRXXX[N][N]X(X,,X(X,,cXCX,R(RRX)),XX)\"\n",
    "geno = \"(cccXX[0:2]XX[*][Thr,lo:2](X,,,,(X,X,XX(X))))\"\n",
    "parsed = simple_parser(geno)\n",
    "print(parsed)"
   ]
  },
  {
   "cell_type": "code",
   "execution_count": null,
   "id": "6aef038f",
   "metadata": {},
   "outputs": [
    {
     "name": "stdout",
     "output_type": "stream",
     "text": [
      "['c', 'c', 'c', 'X', 'X', 'neuron', 'N', 'conn', 0, 2.0, 'end', 'X', 'X', 'neuron', '*', 'end', 'neuron', 'Thr', 'prop', 'lo', 2.0, 'end', 'branch', 'comma', 'X', 'end', 'comma', 'end', 'comma', 'end', 'comma', 'end', 'comma', 'branch', 'end', 'comma', 'X', 'end', 'X', 'X', 'branch', 'X', ')', 'end']\n"
     ]
    }
   ],
   "source": [
    "print(parsed)"
   ]
  },
  {
   "cell_type": "code",
   "execution_count": null,
   "id": "96b97a5e",
   "metadata": {},
   "outputs": [],
   "source": [
    "from enum import Enum, auto\n",
    "\n",
    "class AutoName(Enum):\n",
    "    @staticmethod\n",
    "    def _generate_next_value_(name, start, count, last_values):\n",
    "        return name\n",
    "\n",
    "class test(AutoName):\n",
    "    hey = auto()\n",
    "\n",
    "class test2(Enum):\n",
    "    skibi = auto()"
   ]
  },
  {
   "cell_type": "code",
   "execution_count": null,
   "id": "3a3dedb1",
   "metadata": {},
   "outputs": [
    {
     "data": {
      "text/plain": [
       "[<test.hey: 'hey'>, <test2.skibi: 1>]"
      ]
     },
     "execution_count": 192,
     "metadata": {},
     "output_type": "execute_result"
    }
   ],
   "source": [
    "list(test) + list(test2)"
   ]
  },
  {
   "cell_type": "code",
   "execution_count": null,
   "id": "444db6e4",
   "metadata": {},
   "outputs": [
    {
     "data": {
      "text/plain": [
       "'hey'"
      ]
     },
     "execution_count": 187,
     "metadata": {},
     "output_type": "execute_result"
    }
   ],
   "source": [
    "test.hey.value"
   ]
  },
  {
   "cell_type": "code",
   "execution_count": null,
   "id": "a5b5a76b",
   "metadata": {},
   "outputs": [
    {
     "data": {
      "text/plain": [
       "(45, 45)"
      ]
     },
     "execution_count": 188,
     "metadata": {},
     "output_type": "execute_result"
    }
   ],
   "source": [
    "len(geno), len(parsed)"
   ]
  },
  {
   "cell_type": "code",
   "execution_count": null,
   "id": "78020ab4",
   "metadata": {},
   "outputs": [],
   "source": [
    "from deap import gp\n",
    "from functools import partial"
   ]
  },
  {
   "cell_type": "code",
   "execution_count": null,
   "id": "8784c31e",
   "metadata": {},
   "outputs": [
    {
     "data": {
      "text/plain": [
       "deap.gp.nint"
      ]
     },
     "execution_count": 200,
     "metadata": {},
     "output_type": "execute_result"
    }
   ],
   "source": [
    "gp.MetaEphemeral(\"nint\",partial(lambda s: s,5))"
   ]
  }
 ],
 "metadata": {
  "kernelspec": {
   "display_name": ".venv",
   "language": "python",
   "name": "python3"
  },
  "language_info": {
   "codemirror_mode": {
    "name": "ipython",
    "version": 3
   },
   "file_extension": ".py",
   "mimetype": "text/x-python",
   "name": "python",
   "nbconvert_exporter": "python",
   "pygments_lexer": "ipython3",
   "version": "3.13.0"
  }
 },
 "nbformat": 4,
 "nbformat_minor": 5
}
