{
 "cells": [
  {
   "cell_type": "code",
   "execution_count": null,
   "id": "e0656b9d",
   "metadata": {},
   "outputs": [],
   "source": [
    "import re"
   ]
  },
  {
   "cell_type": "code",
   "execution_count": null,
   "id": "412396ac",
   "metadata": {},
   "outputs": [],
   "source": [
    "slice(\"ABCD\",2,4)"
   ]
  },
  {
   "cell_type": "code",
   "execution_count": null,
   "id": "bf0efb52",
   "metadata": {},
   "outputs": [
    {
     "data": {
      "text/plain": [
       "'a'"
      ]
     },
     "execution_count": 191,
     "metadata": {},
     "output_type": "execute_result"
    }
   ],
   "source": [
    "\"abc\""
   ]
  },
  {
   "cell_type": "code",
   "execution_count": null,
   "id": "c0f0ff49",
   "metadata": {},
   "outputs": [],
   "source": [
    "def parse_frams_geno(geno:str):\n",
    "    print(geno)\n",
    "    if len(geno) == 0:\n",
    "        return [\"empty\"]\n",
    "    i = geno.find(\"(\")\n",
    "    j = geno.find(\",\")\n",
    "    k = geno.find(\")\")\n",
    "    if i != -1 and (i < j or j == -1):\n",
    "        l = geno.rfind(\")\")\n",
    "        return [\"add_branch\"] + parse_frams_geno(geno[:i]) + parse_frams_geno(geno[i+1:l])\n",
    "    if j != -1 and (j < i or i == -1):\n",
    "        return [\"comma\"] + parse_frams_geno(geno[:j]) + parse_frams_geno(geno[j+1:])\n",
    "\n",
    "    if len(geno) == 1:\n",
    "        return [geno[0]]\n",
    "\n",
    "    if geno[1] == \"[\": #handle\n",
    "        match = re.search(r'\\[[^\\[\\]]*?\\](?!\\[)', geno)\n",
    "        type, rest = parse_neuron(match.group()[1:-1])\n",
    "        return [\"add_neuron\"] + parse_frams_geno(geno[:match.start()]) + [type] + rest + parse_frams_geno(geno[match.end()+1:])\n",
    "    return [\"concat\", geno[0]] + parse_frams_geno(geno[1:])\n",
    "\n",
    "def parse_neuron(neuron_inside:str):\n",
    "    return \"N\", []\n"
   ]
  },
  {
   "cell_type": "code",
   "execution_count": 197,
   "id": "0ea05ba0",
   "metadata": {},
   "outputs": [
    {
     "data": {
      "text/plain": [
       "'ab'"
      ]
     },
     "execution_count": 197,
     "metadata": {},
     "output_type": "execute_result"
    }
   ],
   "source": [
    "\"abc\"[:2]"
   ]
  },
  {
   "cell_type": "code",
   "execution_count": 205,
   "id": "87974def",
   "metadata": {},
   "outputs": [
    {
     "data": {
      "text/plain": [
       "10"
      ]
     },
     "execution_count": 205,
     "metadata": {},
     "output_type": "execute_result"
    }
   ],
   "source": [
    "import re\n",
    "geno = \"[abc][def]dsa[ghi]\"\n",
    "match = re.search(r'\\[[^\\[\\]]*?\\](?!\\[)', geno)\n",
    "match.start()\n",
    "match.end()"
   ]
  },
  {
   "cell_type": "code",
   "execution_count": 206,
   "id": "b2d425f3",
   "metadata": {},
   "outputs": [
    {
     "data": {
      "text/plain": [
       "'AB'"
      ]
     },
     "execution_count": 206,
     "metadata": {},
     "output_type": "execute_result"
    }
   ],
   "source": [
    "\"ABCD\"[:2]"
   ]
  },
  {
   "cell_type": "code",
   "execution_count": 207,
   "id": "8c4528e5",
   "metadata": {},
   "outputs": [
    {
     "name": "stdout",
     "output_type": "stream",
     "text": [
      "((X),)\n",
      "\n",
      "(X),\n",
      "\n",
      "X\n",
      "['add_branch', 'empty', 'add_branch', 'empty', 'X']\n"
     ]
    }
   ],
   "source": [
    "#geno = \"cccRRRXXX[N][N]X(X,,X(X,,cXCX,R(RRX)),XX)\"\n",
    "geno = \"((X),)\"#\"((X),X)\"\n",
    "parsed = parse_frams_geno(geno)\n",
    "print(parsed)"
   ]
  },
  {
   "cell_type": "code",
   "execution_count": 163,
   "id": "6aef038f",
   "metadata": {},
   "outputs": [
    {
     "name": "stdout",
     "output_type": "stream",
     "text": [
      "['add_branch', 'empty', 'add_branch', 'empty', 'add_branch', 'empty', 'add_branch', 'empty', 'add_branch', 'empty', 'add_branch', 'empty', 'add_branch', 'empty', 'empty']\n"
     ]
    }
   ],
   "source": [
    "print(parsed)"
   ]
  },
  {
   "cell_type": "code",
   "execution_count": 105,
   "id": "a5b5a76b",
   "metadata": {},
   "outputs": [
    {
     "data": {
      "text/plain": [
       "35"
      ]
     },
     "execution_count": 105,
     "metadata": {},
     "output_type": "execute_result"
    }
   ],
   "source": [
    "len(geno)"
   ]
  }
 ],
 "metadata": {
  "kernelspec": {
   "display_name": ".venv",
   "language": "python",
   "name": "python3"
  },
  "language_info": {
   "codemirror_mode": {
    "name": "ipython",
    "version": 3
   },
   "file_extension": ".py",
   "mimetype": "text/x-python",
   "name": "python",
   "nbconvert_exporter": "python",
   "pygments_lexer": "ipython3",
   "version": "3.13.0"
  }
 },
 "nbformat": 4,
 "nbformat_minor": 5
}
