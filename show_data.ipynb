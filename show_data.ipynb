{
 "cells": [
  {
   "cell_type": "code",
   "execution_count": 7,
   "id": "ab1a8cab",
   "metadata": {},
   "outputs": [
    {
     "name": "stdout",
     "output_type": "stream",
     "text": [
      "   pop  subfolder     fitness\n",
      "0  200          1  188.465120\n",
      "1  200          2   95.808225\n",
      "2  200          3  156.616848\n",
      "3  200          4  101.048806\n",
      "4  200          5  102.918889\n",
      "5  200          6  113.099632\n",
      "6  200          7   17.060969\n",
      "7  200          8   37.356250\n"
     ]
    }
   ],
   "source": [
    "import os\n",
    "import pandas as pd\n",
    "\n",
    "# Define the base folder containing pop_x subfolders\n",
    "base_folder = 'out_simple'\n",
    "\n",
    "# Initialize a list to store the data\n",
    "data = []\n",
    "\n",
    "# Loop over each pop_x subfolder (e.g., pop_1, pop_2, etc.)\n",
    "for folder_name in os.listdir(base_folder):\n",
    "    folder_path = os.path.join(base_folder, folder_name)\n",
    "    if os.path.isdir(folder_path) and folder_name.startswith(\"pop_\"):\n",
    "        pop_id = folder_name.split(\"_\")[1]\n",
    "\n",
    "        # Loop over each numbered subfolder inside pop_x (e.g., 1, 2, 3, ...)\n",
    "        for subfolder_name in os.listdir(folder_path):\n",
    "            subfolder_path = os.path.join(folder_path, subfolder_name)\n",
    "            if os.path.isdir(subfolder_path):\n",
    "                for file_name in os.listdir(subfolder_path):\n",
    "                    if file_name.endswith('.results'):\n",
    "                        file_path = os.path.join(subfolder_path, file_name)\n",
    "\n",
    "                        # Read the file line by line\n",
    "                        with open(file_path, 'r') as f:\n",
    "                            for line in f:\n",
    "                                line = line.strip()\n",
    "                                if not line:\n",
    "                                    continue\n",
    "                                parts = line.split(\"\\t\")\n",
    "                                if len(parts) >= 6:\n",
    "                                    try:\n",
    "                                        fitness = float(parts[6])\n",
    "                                        data.append({\n",
    "                                            'pop': int(pop_id),\n",
    "                                            'subfolder': int(subfolder_name),\n",
    "                                            'fitness': fitness\n",
    "                                        })\n",
    "                                    except ValueError:\n",
    "                                        continue\n",
    "\n",
    "# Create a DataFrame\n",
    "df = pd.DataFrame(data)\n",
    "\n",
    "# Sort and show the result\n",
    "df = df.sort_values(by=['pop', 'subfolder']).reset_index(drop=True)\n",
    "print(df)\n"
   ]
  },
  {
   "cell_type": "code",
   "execution_count": null,
   "id": "bfd94f8c",
   "metadata": {},
   "outputs": [],
   "source": []
  }
 ],
 "metadata": {
  "kernelspec": {
   "display_name": "base",
   "language": "python",
   "name": "python3"
  },
  "language_info": {
   "codemirror_mode": {
    "name": "ipython",
    "version": 3
   },
   "file_extension": ".py",
   "mimetype": "text/x-python",
   "name": "python",
   "nbconvert_exporter": "python",
   "pygments_lexer": "ipython3",
   "version": "3.9.7"
  }
 },
 "nbformat": 4,
 "nbformat_minor": 5
}
